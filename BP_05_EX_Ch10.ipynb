{
  "nbformat": 4,
  "nbformat_minor": 0,
  "metadata": {
    "colab": {
      "provenance": [],
      "authorship_tag": "ABX9TyORZUouBE98wj2/tYiq0F+S",
      "include_colab_link": true
    },
    "kernelspec": {
      "name": "python3",
      "display_name": "Python 3"
    },
    "language_info": {
      "name": "python"
    }
  },
  "cells": [
    {
      "cell_type": "markdown",
      "metadata": {
        "id": "view-in-github",
        "colab_type": "text"
      },
      "source": [
        "<a href=\"https://colab.research.google.com/github/minho1110/BP_05_Ch10/blob/main/BP_05_EX_Ch10.ipynb\" target=\"_parent\"><img src=\"https://colab.research.google.com/assets/colab-badge.svg\" alt=\"Open In Colab\"/></a>"
      ]
    },
    {
      "cell_type": "code",
      "source": [
        "from tkinter import *\n",
        "\n",
        "window = Tk()\n",
        "\n",
        "program = Label(window, text=\"간단한 GUI 프로그램!\")\n",
        "program.pack()\n",
        "\n",
        "firstBtn = Button(window, text=\"환영합니다.\")\n",
        "lastBtn  = Button(window, text=\"종료\")\n",
        "\n",
        "firstBtn.pack()\n",
        "lastBtn.pack()\n",
        "\n",
        "window.mainloop()"
      ],
      "metadata": {
        "id": "0nJQ0INFu5_v"
      },
      "execution_count": null,
      "outputs": []
    },
    {
      "cell_type": "code",
      "source": [
        "from tkinter import Tk, Label, Button, Entry, IntVar, END, W, E \n",
        "\n",
        "def update_add(): \n",
        "   update(\"add\") \n",
        " \n",
        "def update_subtract(): \n",
        "     update(\"subtract\") \n",
        "   \n",
        "def update_reset(): \n",
        "     update(\"reset\")\n",
        "window = Tk() \n",
        "total = 0 \n",
        "sum = Label (window) \n",
        "sum.grid(row=0, column=1, columnspan=2)\n",
        "label = Label(window, text=\"현재 합계:\")\n",
        "label.grid(row=0, column=0) \n",
        "\n",
        "entry = Entry(window)\n",
        "entry.grid(row=1, column=0, columnspan=3) \n",
        "\n",
        "add_button = Button(window, text=\"더하기(+)\", command=update_add) \n",
        "subtract_button = Button(window, text=\"빼기(-)\", command=update_subtract) \n",
        "reset_button = Button(window, text=\"초기화\", command=update_reset)\n",
        "\n",
        "add_button.grid(row=2, column=0) \n",
        "subtract_button.grid(row=2, column=1) \n",
        "reset_button.grid(row=2, column=2) \n",
        "\n",
        "def update(method):\n",
        "  global total\n",
        "  if method == \"add\":\n",
        "    total += int(entry.get())\n",
        "  elif method == \"subtract\":\n",
        "    total -= int(entry.get())\n",
        "  else:\n",
        "    total = 0\n",
        "  sum['text'] = str(total)\n",
        "  entry.delete(0, END)\n",
        "\n",
        "window.mainloop()"
      ],
      "metadata": {
        "id": "v1y0nwPLvrkD"
      },
      "execution_count": null,
      "outputs": []
    },
    {
      "cell_type": "code",
      "source": [
        "from tkinter import *\n",
        "import random\n",
        "\n",
        "window = Tk()\n",
        "num = 0\n",
        "betNum = random.randint(1,100)\n",
        "\n",
        "def run():\n",
        "    global num\n",
        "    global betNum\n",
        "\n",
        "    num = int(e.get())\n",
        "    if num < betNum:\n",
        "        firstLabel['text'] = \"너무 낮아요!!\"\n",
        "    elif num > betNum:\n",
        "        firstLabel['text'] = \"너무 높아요!!\"\n",
        "    else:\n",
        "        firstLabel['text'] = \"정답입니다!\"\n",
        "\n",
        "def reset():\n",
        "    global num\n",
        "    global betNum\n",
        "\n",
        "    e.delete(0,END)\n",
        "    secondLabel.config(text=\"\")\n",
        "    betNum = random.randint(1,100)\n",
        "    num = 0\n",
        "\n",
        "firstLabel = Label(window, text=\"1에서 100사이의 수를 입력하세요.\")\n",
        "secondLabel = Label(window,)\n",
        "thridLabel = Label(window, )\n",
        "\n",
        "firstLabel.grid(row=1, column=0, columnspan=2)\n",
        "secondLabel.grid(row=2, column=0, columnspan=2)\n",
        "thridLabel.grid(row=4, column=0, columnspan=2)\n",
        "\n",
        "e = Entry(window)\n",
        "e.grid(row=3, column=0, columnspan=2)\n",
        "\n",
        "firstBtn = Button(window, text=\"숫자를 입력\", command = run)\n",
        "secondBtn= Button(window, text=\"게임을 다시 실행\", command = reset)\n",
        "\n",
        "firstBtn.grid(row=5, column=0)\n",
        "secondBtn.grid(row=5, column=1)\n",
        "\n",
        "window.mainloop()"
      ],
      "metadata": {
        "id": "Tx09yZWp2lpJ"
      },
      "execution_count": null,
      "outputs": []
    },
    {
      "cell_type": "code",
      "source": [
        "def changedInch():\n",
        "    inch  = int(e.get())  \n",
        "    centi = inch * 2.54 # 인치 -> 센티미터\n",
        "    forthLabel.configure(text = str(centi)+\" 센티미터\") \n",
        "    \n",
        "\n",
        "from tkinter import *\n",
        "\n",
        "window = Tk()\n",
        "\n",
        "firstLabel = Label(window, text = \"인치를 센티미터로 변환하는 프로그램: \")\n",
        "firstLabel.grid(row=0, column=0,columnspan=2) \n",
        "\n",
        "secondLabel = Label(window, text = \"인치를 입력하시오:\")\n",
        "secondLabel.grid(row=1, column=0)\n",
        "\n",
        "e = Entry()\n",
        "e.grid(row=1, column=1)\n",
        "\n",
        "thirdLabel = Label(window, text = \"변환결과:\")\n",
        "thirdLabel.grid(row=2, column=0)\n",
        "\n",
        "forthLabel = Label(window, text = \"0 센티미터\")\n",
        "\n",
        "forthLabel.grid(row=2, column=1)\n",
        "\n",
        "changeBtn = Button(window, text=\"변환!\", command=changedInch)\n",
        "changeBtn.grid(row=3, column=1)\n",
        "\n",
        "window.mainloop()"
      ],
      "metadata": {
        "id": "vQW5VqVb3NDQ"
      },
      "execution_count": null,
      "outputs": []
    },
    {
      "cell_type": "code",
      "source": [
        "from tkinter import*\n",
        "\n",
        "\n",
        "window=Tk()\n",
        "l1= Label(window,text=\"이름\")\n",
        "l2= Label(window,text=\"직업\")\n",
        "l3= Label(window,text=\"국적\")\n",
        "\n",
        "\n",
        "\n",
        "l1.grid(row=0,column=0)\n",
        "l2.grid(row=1,column=0)\n",
        "l3.grid(row=2,column=0)\n",
        "\n",
        "\n",
        "\n",
        "e1=Entry(window)\n",
        "e2=Entry(window)\n",
        "e3=Entry(window)\n",
        "\n",
        "\n",
        "\n",
        "e1.grid(row=0,column=1)\n",
        "e2.grid(row=1,column=1)\n",
        "e3.grid(row=2,column=1)\n",
        "\n",
        "\n",
        "\n",
        "b1=Button(window,text=\"Show\")\n",
        "b2=Button(window,text=\"Quit\")\n",
        "\n",
        "\n",
        "\n",
        "b1.grid(row=3,column=0)\n",
        "b2.grid(row=3,column=1)\n",
        "\n",
        "\n",
        "window.mainloop()\n"
      ],
      "metadata": {
        "id": "9FH1K3qh2qXL"
      },
      "execution_count": null,
      "outputs": []
    },
    {
      "cell_type": "code",
      "source": [
        "from tkinter import * \n",
        "\n",
        "window = Tk() \n",
        "label1 = Label(window, text=\"로그인 하세요!!!\", font=(\"Helvetica\", 20))\n",
        "label1.pack() \n",
        "label2 = Label(window, text=\"아이디\") \n",
        "label2.pack() \n",
        "entry1 = Entry(window)\n",
        "entry1.pack()\n",
        "label2 = Label(window, text=\"패스워드\") \n",
        "label2.pack() \n",
        "entry2 = Entry(window) \n",
        "entry2.pack() \n",
        "button1 = Button(window, text=\"로그인\") \n",
        "button1.pack() \n",
        "window.mainloop()"
      ],
      "metadata": {
        "id": "3C3dqp5794r_"
      },
      "execution_count": null,
      "outputs": []
    }
  ]
}